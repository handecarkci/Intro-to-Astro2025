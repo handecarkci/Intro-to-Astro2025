{
 "cells": [
  {
   "cell_type": "markdown",
   "id": "1a0a0fae",
   "metadata": {},
   "source": [
    "\n",
    "# Week 3 — NASA Exoplanet Archive, Git/GitHub, Paper Q&A  \n",
    "**Author:** Hande Çarkcı (Author)  \n",
    "**Date:** July 22, 2025\n",
    "\n",
    "This notebook completes the Week 3 assignment by:\n",
    "1) Querying the **NASA Exoplanet Archive** for confirmed planets and plotting the **Mass–Radius** relationship,  \n",
    "2) Reviewing essential **Git/GitHub** commands, and  \n",
    "3) Documenting the **Questions on the Paper** (Zeng et al., 2019) with short answers.\n"
   ]
  },
  {
   "cell_type": "markdown",
   "id": "454fccbf",
   "metadata": {},
   "source": [
    "## 1) Setup"
   ]
  },
  {
   "cell_type": "code",
   "execution_count": null,
   "id": "c5ea66bd",
   "metadata": {},
   "outputs": [],
   "source": [
    "\n",
    "# If running in a fresh environment, uncomment these:\n",
    "# !pip install astroquery pandas matplotlib\n"
   ]
  },
  {
   "cell_type": "markdown",
   "id": "375fe253",
   "metadata": {},
   "source": [
    "\n",
    "## 2) Query NASA Exoplanet Archive (with offline fallback)\n",
    "\n",
    "The cell below tries to download **confirmed planets** with radius (Earth radii), mass (Earth masses), and orbital period (days).  \n",
    "- If the online query fails (e.g., no internet), it will **fallback** to a small embedded sample dataset so you can still run the plot.\n"
   ]
  },
  {
   "cell_type": "code",
   "execution_count": null,
   "id": "e25bdf29",
   "metadata": {},
   "outputs": [],
   "source": [
    "\n",
    "import io\n",
    "import pandas as pd\n",
    "\n",
    "try:\n",
    "    from astroquery.nasa_exoplanet_archive import NasaExoplanetArchive\n",
    "    exoplanet_table = NasaExoplanetArchive.get_confirmed_planets_table(\n",
    "        select=\"pl_rade,pl_bmasse,pl_orbper\",\n",
    "        cache=True\n",
    "    )\n",
    "    df = exoplanet_table.to_pandas()\n",
    "    source = \"NASA Exoplanet Archive (live)\"\n",
    "except Exception as e:\n",
    "    # Fallback to embedded CSV (works offline)\n",
    "    csv_data = \"\"\"\n",
    "pl_rade,pl_bmasse,pl_orbper\n",
    "1.00,1.00,365.25\n",
    "1.90,317.8,4332.59\n",
    "2.50,7.0,10.0\n",
    "3.20,9.5,5.5\n",
    "1.50,5.1,7.3\n",
    "2.10,6.8,24.6\n",
    "1.20,2.0,15.2\n",
    "\"\"\"\n",
    "    df = pd.read_csv(io.StringIO(csv_data))\n",
    "    source = \"Embedded sample fallback\"\n",
    "    print(\"Online query failed, using fallback dataset. Error:\", e)\n",
    "\n",
    "print(\"Data source:\", source)\n",
    "print(\"Rows:\", len(df))\n",
    "df.head()\n"
   ]
  },
  {
   "cell_type": "markdown",
   "id": "d1d01a06",
   "metadata": {},
   "source": [
    "## 3) Clean & Plot Mass–Radius (log–log)"
   ]
  },
  {
   "cell_type": "code",
   "execution_count": null,
   "id": "3e3158ca",
   "metadata": {},
   "outputs": [],
   "source": [
    "\n",
    "import numpy as np\n",
    "import matplotlib.pyplot as plt\n",
    "\n",
    "# Clean\n",
    "df_clean = df.dropna(subset=[\"pl_rade\", \"pl_bmasse\"]).copy()\n",
    "\n",
    "# Plot\n",
    "plt.figure(figsize=(8, 5))\n",
    "plt.scatter(df_clean[\"pl_rade\"], df_clean[\"pl_bmasse\"], alpha=0.6)\n",
    "plt.xscale(\"log\")\n",
    "plt.yscale(\"log\")\n",
    "plt.xlabel(\"Planet Radius (Earth radii)\")\n",
    "plt.ylabel(\"Planet Mass (Earth masses)\")\n",
    "plt.title(\"Exoplanet Mass–Radius relationship\")\n",
    "plt.grid(True, which=\"both\", linestyle=\"--\", linewidth=0.5)\n",
    "plt.show()\n"
   ]
  },
  {
   "cell_type": "markdown",
   "id": "572fa2ec",
   "metadata": {},
   "source": [
    "\n",
    "**Interpretation (short):**  \n",
    "- On log–log axes, Solar System bodies (if included) and exoplanets span orders of magnitude in mass and radius.  \n",
    "- Clusters can hint at **rocky super-Earths** vs. **gas-rich sub-Neptunes**; precise classification needs composition modeling and better mass precision.\n"
   ]
  },
  {
   "cell_type": "markdown",
   "id": "19085cdf",
   "metadata": {},
   "source": [
    "\n",
    "## 4) Git/GitHub Quick Reference\n",
    "\n",
    "```bash\n",
    "git --version              # verify install\n",
    "git config --global user.name \"Hande Çarkcı (Author)\"\n",
    "git config --global user.email \"handecarkcicontact@example.com\"\n",
    "\n",
    "mkdir week3_project && cd week3_project\n",
    "git init\n",
    "echo \"# Week3 Project\" > README.md\n",
    "git add README.md\n",
    "git commit -m \"Initial commit\"\n",
    "\n",
    "# create repo on GitHub, then link:\n",
    "git branch -M main\n",
    "git remote add origin https://github.com/handecarkci/week3_project.git\n",
    "git push -u origin main\n",
    "\n",
    "# workflow\n",
    "git status\n",
    "git add <files>\n",
    "git commit -m \"Message\"\n",
    "git pull --rebase\n",
    "git push\n",
    "```\n"
   ]
  },
  {
   "cell_type": "markdown",
   "id": "ce976c8f",
   "metadata": {},
   "source": [
    "\n",
    "## 5) Paper of the Week — Questions & Short Answers\n",
    "\n",
    "**Paper:** *Growth model interpretation of planet size distribution* (Li Zeng et al., 2019).\n",
    "\n",
    "**Q1. Effect of planet migration**  \n",
    "Migration complicates the rocky–icy core dichotomy. A water world that originally formed beyond the snow line could migrate inward and still be observed as a sub-Neptune in a close orbit; the retention or loss of its atmosphere would depend on stellar activity and the planet’s internal heat.\n",
    "\n",
    "**Q2. Atmospheric loss mechanisms**  \n",
    "Photoevaporation may dominate, but core-powered mass loss can become the controlling factor in some systems over longer timescales. For robust predictions, both mechanisms should be modeled together.\n",
    "\n",
    "\n",
    "**Q3. Mass–radius measurement precision**  \n",
    "To distinguish composition (rocky vs. water-ice rich), a typical precision of about 5–10% in both mass and radius is required; current measurements do not always reach this accuracy for every planet.\n",
    "\n",
    "\n"
   ]
  }
 ],
 "metadata": {
  "kernelspec": {
   "display_name": "Python [conda env:base] *",
   "language": "python",
   "name": "conda-base-py"
  },
  "language_info": {
   "codemirror_mode": {
    "name": "ipython",
    "version": 3
   },
   "file_extension": ".py",
   "mimetype": "text/x-python",
   "name": "python",
   "nbconvert_exporter": "python",
   "pygments_lexer": "ipython3",
   "version": "3.13.5"
  }
 },
 "nbformat": 4,
 "nbformat_minor": 5
}
