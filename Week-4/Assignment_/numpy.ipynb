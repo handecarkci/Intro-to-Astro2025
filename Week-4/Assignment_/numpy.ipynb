{
  "cells": [
    {
      "cell_type": "markdown",
      "metadata": {
        "id": "aDYIzPiB1sxW"
      },
      "source": [
        "# Python Libraries 1\n",
        "# Numpy ![numpy.png](attachment:numpy.png)"
      ]
    },
    {
      "cell_type": "code",
      "execution_count": null,
      "metadata": {
        "id": "e995H6Th1sxY"
      },
      "outputs": [],
      "source": [
        "import numpy"
      ]
    },
    {
      "cell_type": "code",
      "execution_count": null,
      "metadata": {
        "id": "awswz6Sp1sxZ"
      },
      "outputs": [],
      "source": [
        "l=[1,2,3]\n",
        "arr=numpy.array(l)"
      ]
    },
    {
      "cell_type": "code",
      "execution_count": null,
      "metadata": {
        "id": "3gQEZkBB1sxZ",
        "outputId": "1e327c8c-4aa6-4643-e60b-c3fa668638ae"
      },
      "outputs": [
        {
          "data": {
            "text/plain": [
              "array([1, 2, 3])"
            ]
          },
          "execution_count": 3,
          "metadata": {},
          "output_type": "execute_result"
        }
      ],
      "source": [
        "arr"
      ]
    },
    {
      "cell_type": "code",
      "execution_count": null,
      "metadata": {
        "id": "GCa-NCWR1sxa"
      },
      "outputs": [],
      "source": [
        "import numpy as np"
      ]
    },
    {
      "cell_type": "code",
      "execution_count": null,
      "metadata": {
        "id": "-CodPjH21sxa",
        "outputId": "71d7d3ed-db7e-40f5-ab6d-8c2ada425ed8"
      },
      "outputs": [
        {
          "data": {
            "text/plain": [
              "array([1, 2, 3])"
            ]
          },
          "execution_count": 5,
          "metadata": {},
          "output_type": "execute_result"
        }
      ],
      "source": [
        "np.array(l)"
      ]
    },
    {
      "cell_type": "code",
      "execution_count": null,
      "metadata": {
        "id": "yzu0Nx2_1sxb"
      },
      "outputs": [],
      "source": [
        "arr_1=np.array([1,2,3])"
      ]
    },
    {
      "cell_type": "code",
      "execution_count": null,
      "metadata": {
        "id": "JSJHDadm1sxb",
        "outputId": "521490fb-25d4-4a5e-a0df-9d4a4d2faeb5"
      },
      "outputs": [
        {
          "data": {
            "text/plain": [
              "array([1, 2, 3])"
            ]
          },
          "execution_count": 7,
          "metadata": {},
          "output_type": "execute_result"
        }
      ],
      "source": [
        "arr_1"
      ]
    },
    {
      "cell_type": "code",
      "execution_count": null,
      "metadata": {
        "id": "h0Rs-qFY1sxb",
        "outputId": "761f16b1-b8a2-4390-938f-ce688457d688"
      },
      "outputs": [
        {
          "data": {
            "text/plain": [
              "array([2, 3, 4])"
            ]
          },
          "execution_count": 8,
          "metadata": {},
          "output_type": "execute_result"
        }
      ],
      "source": [
        "arr_1+1"
      ]
    },
    {
      "cell_type": "code",
      "execution_count": null,
      "metadata": {
        "id": "QgZfr0zj1sxc",
        "outputId": "4eb890ad-cb4a-46cc-9696-77d236887fd1"
      },
      "outputs": [
        {
          "data": {
            "text/plain": [
              "array([2, 4, 6])"
            ]
          },
          "execution_count": 9,
          "metadata": {},
          "output_type": "execute_result"
        }
      ],
      "source": [
        "arr_1*2"
      ]
    },
    {
      "cell_type": "code",
      "execution_count": null,
      "metadata": {
        "id": "1-Y-JzuT1sxc",
        "outputId": "add69429-f157-4494-926b-1090aa1feeb5"
      },
      "outputs": [
        {
          "data": {
            "text/plain": [
              "[1, 2, 3, 2, 3, 4]"
            ]
          },
          "execution_count": 10,
          "metadata": {},
          "output_type": "execute_result"
        }
      ],
      "source": [
        "l_1=[1,2,3]\n",
        "l_2=[2,3,4]\n",
        "l_1+l_2"
      ]
    },
    {
      "cell_type": "code",
      "execution_count": null,
      "metadata": {
        "id": "Lono6ixJ1sxc"
      },
      "outputs": [],
      "source": [
        "arr_1=np.array(l_1)\n",
        "arr_2=np.array(l_2)"
      ]
    },
    {
      "cell_type": "code",
      "execution_count": null,
      "metadata": {
        "id": "r4jvl4_V1sxc",
        "outputId": "e6a6a260-9256-484a-c6e5-2ce571e6e379"
      },
      "outputs": [
        {
          "data": {
            "text/plain": [
              "array([3, 5, 7])"
            ]
          },
          "execution_count": 12,
          "metadata": {},
          "output_type": "execute_result"
        }
      ],
      "source": [
        "arr_1+arr_2"
      ]
    },
    {
      "cell_type": "code",
      "execution_count": null,
      "metadata": {
        "id": "n2yInY181sxd",
        "outputId": "663e755b-89a2-46ba-fb19-0b25c4a45418"
      },
      "outputs": [
        {
          "data": {
            "text/plain": [
              "6"
            ]
          },
          "execution_count": 13,
          "metadata": {},
          "output_type": "execute_result"
        }
      ],
      "source": [
        "arr_1.sum()"
      ]
    },
    {
      "cell_type": "code",
      "execution_count": null,
      "metadata": {
        "id": "rSQFd8pS1sxd",
        "outputId": "07371a0d-c79c-42d2-ab07-dc28afa99a66"
      },
      "outputs": [
        {
          "data": {
            "text/plain": [
              "1"
            ]
          },
          "execution_count": 14,
          "metadata": {},
          "output_type": "execute_result"
        }
      ],
      "source": [
        "#Indexing\n",
        "arr_1[0]"
      ]
    },
    {
      "cell_type": "code",
      "execution_count": null,
      "metadata": {
        "id": "M36yRqPQ1sxd",
        "outputId": "7ca364f1-a6be-4da2-c7b0-0b32c2f7a234"
      },
      "outputs": [
        {
          "data": {
            "text/plain": [
              "3"
            ]
          },
          "execution_count": 15,
          "metadata": {},
          "output_type": "execute_result"
        }
      ],
      "source": [
        "arr_1[2]"
      ]
    },
    {
      "cell_type": "code",
      "execution_count": null,
      "metadata": {
        "id": "9jnkcV191sxd",
        "outputId": "7ec517bf-5393-43bb-ce80-a3c19e899f13"
      },
      "outputs": [
        {
          "name": "stdout",
          "output_type": "stream",
          "text": [
            "1\n",
            "2\n",
            "3\n"
          ]
        }
      ],
      "source": [
        "for i in arr_1:\n",
        "    print(i)"
      ]
    },
    {
      "cell_type": "code",
      "execution_count": null,
      "metadata": {
        "id": "iSnPiV9c1sxe"
      },
      "outputs": [],
      "source": [
        "arr_2D=np.array([[1,1],[2,1],[3,2]])"
      ]
    },
    {
      "cell_type": "code",
      "execution_count": null,
      "metadata": {
        "id": "Jr9Bhzo21sxe",
        "outputId": "7976b0c8-1452-4a83-d6ac-93782960753b"
      },
      "outputs": [
        {
          "data": {
            "text/plain": [
              "array([[1, 1],\n",
              "       [2, 1],\n",
              "       [3, 2]])"
            ]
          },
          "execution_count": 18,
          "metadata": {},
          "output_type": "execute_result"
        }
      ],
      "source": [
        "arr_2D"
      ]
    },
    {
      "cell_type": "code",
      "execution_count": null,
      "metadata": {
        "id": "N_MXdrFf1sxe"
      },
      "outputs": [],
      "source": [
        "rand_array=np.random.random(size=[3,2])"
      ]
    },
    {
      "cell_type": "code",
      "execution_count": null,
      "metadata": {
        "id": "HDNe9oZM1sxe",
        "outputId": "6d57e1d7-d6ff-4596-a7a8-d84f0f3709e9"
      },
      "outputs": [
        {
          "data": {
            "text/plain": [
              "array([[0., 0.],\n",
              "       [0., 0.],\n",
              "       [0., 0.]])"
            ]
          },
          "execution_count": 20,
          "metadata": {},
          "output_type": "execute_result"
        }
      ],
      "source": [
        "zero_array=np.zeros(shape=[3,2])\n",
        "zero_array"
      ]
    },
    {
      "cell_type": "code",
      "execution_count": null,
      "metadata": {
        "id": "gcw1blUU1sxe",
        "outputId": "f4f53e4a-f3e9-470f-d795-bcc70de6694d"
      },
      "outputs": [
        {
          "data": {
            "text/plain": [
              "array([[0., 0.],\n",
              "       [0., 0.],\n",
              "       [0., 0.]])"
            ]
          },
          "execution_count": 21,
          "metadata": {},
          "output_type": "execute_result"
        }
      ],
      "source": [
        "zero_array"
      ]
    },
    {
      "cell_type": "code",
      "execution_count": null,
      "metadata": {
        "id": "vMFGbMCE1sxe"
      },
      "outputs": [],
      "source": [
        "rand_array=np.random.random(size=[5,5])"
      ]
    },
    {
      "cell_type": "code",
      "execution_count": null,
      "metadata": {
        "id": "ZmOVQX0g1sxf",
        "outputId": "8c7e6fcd-d557-49d5-878e-c6bfe081090d"
      },
      "outputs": [
        {
          "data": {
            "text/plain": [
              "array([[0.18756505, 0.1570576 , 0.83158817, 0.04431161, 0.35687993],\n",
              "       [0.25323474, 0.9957606 , 0.52332026, 0.55185452, 0.28640817],\n",
              "       [0.48285586, 0.45600856, 0.2291647 , 0.04733981, 0.18561521],\n",
              "       [0.17458288, 0.97394082, 0.64476136, 0.84609033, 0.62073933],\n",
              "       [0.43554784, 0.67062266, 0.47590727, 0.7638277 , 0.84893053]])"
            ]
          },
          "execution_count": 23,
          "metadata": {},
          "output_type": "execute_result"
        }
      ],
      "source": [
        "rand_array"
      ]
    },
    {
      "cell_type": "code",
      "execution_count": null,
      "metadata": {
        "id": "CWUus8Yn1sxf",
        "outputId": "0c8ebf54-402b-4a91-96e4-f5f6926041a5"
      },
      "outputs": [
        {
          "data": {
            "text/plain": [
              "0.9957605974017925"
            ]
          },
          "execution_count": 24,
          "metadata": {},
          "output_type": "execute_result"
        }
      ],
      "source": [
        "rand_array[1,1]"
      ]
    },
    {
      "cell_type": "code",
      "execution_count": null,
      "metadata": {
        "id": "k4CBDYZL1sxf",
        "outputId": "b73c7bba-f8cc-4e1e-a9de-95510efa1484"
      },
      "outputs": [
        {
          "data": {
            "text/plain": [
              "array([[0.18756505, 0.1570576 ],\n",
              "       [0.25323474, 0.9957606 ]])"
            ]
          },
          "execution_count": 25,
          "metadata": {},
          "output_type": "execute_result"
        }
      ],
      "source": [
        "rand_array[0:2,0:2]"
      ]
    },
    {
      "cell_type": "code",
      "execution_count": null,
      "metadata": {
        "id": "c256AX2_1sxf",
        "outputId": "1ff003ae-7cb2-4b86-e71a-80f44f4b8664"
      },
      "outputs": [
        {
          "data": {
            "text/plain": [
              "array([1.57740235, 2.61057829, 1.40098413, 3.26011472, 3.19483599])"
            ]
          },
          "execution_count": 26,
          "metadata": {},
          "output_type": "execute_result"
        }
      ],
      "source": [
        "rand_array.sum(axis=1)"
      ]
    },
    {
      "cell_type": "code",
      "execution_count": null,
      "metadata": {
        "id": "NxUM5JcG1sxf",
        "outputId": "1e490f41-982a-4c3e-f36c-97f5de19137a"
      },
      "outputs": [
        {
          "data": {
            "text/plain": [
              "2.08058552"
            ]
          },
          "execution_count": 27,
          "metadata": {},
          "output_type": "execute_result"
        }
      ],
      "source": [
        "np.array([0.4924862 , 0.58400964, 0.42182289, 0.31476085, 0.26750594]).sum()"
      ]
    },
    {
      "cell_type": "code",
      "execution_count": null,
      "metadata": {
        "id": "9xmsC4XY1sxf",
        "outputId": "6fc72d8f-f196-4477-ff63-f531243bfb80"
      },
      "outputs": [
        {
          "data": {
            "text/plain": [
              "array([[1.87565045, 1.57057603, 8.31588169, 0.44311609, 3.56879926],\n",
              "       [2.53234742, 9.95760597, 5.23320261, 5.51854515, 2.86408175],\n",
              "       [4.82855858, 4.56008558, 2.29164698, 0.47339809, 1.85615207],\n",
              "       [1.74582877, 9.73940817, 6.44761356, 8.46090334, 6.20739333],\n",
              "       [4.35547839, 6.70622655, 4.75907274, 7.63827697, 8.48930526]])"
            ]
          },
          "execution_count": 28,
          "metadata": {},
          "output_type": "execute_result"
        }
      ],
      "source": [
        "rand_array*10"
      ]
    },
    {
      "cell_type": "code",
      "execution_count": null,
      "metadata": {
        "id": "kUtSX44J1sxf",
        "outputId": "60617815-6424-4ed5-a96d-3c369fb039cc"
      },
      "outputs": [
        {
          "data": {
            "text/plain": [
              "array([[0.18756505, 0.1570576 , 0.83158817, 0.04431161, 0.35687993],\n",
              "       [0.25323474, 0.9957606 , 0.52332026, 0.55185452, 0.28640817],\n",
              "       [0.48285586, 0.45600856, 0.2291647 , 0.04733981, 0.18561521],\n",
              "       [0.17458288, 0.97394082, 0.64476136, 0.84609033, 0.62073933],\n",
              "       [0.43554784, 0.67062266, 0.47590727, 0.7638277 , 0.84893053]])"
            ]
          },
          "execution_count": 29,
          "metadata": {},
          "output_type": "execute_result"
        }
      ],
      "source": [
        "rand_array"
      ]
    },
    {
      "cell_type": "code",
      "execution_count": null,
      "metadata": {
        "id": "EHYZaafZ1sxg"
      },
      "outputs": [],
      "source": [
        "rand_array=np.random.random(size=100)"
      ]
    },
    {
      "cell_type": "code",
      "execution_count": null,
      "metadata": {
        "id": "LPqJl2HR1sxh"
      },
      "outputs": [],
      "source": [
        "rand_array.sort()\n"
      ]
    },
    {
      "cell_type": "code",
      "execution_count": null,
      "metadata": {
        "id": "hUL4UnwC1sxh",
        "outputId": "69d1b9f1-627c-4b06-ce57-4f7b095c0347"
      },
      "outputs": [
        {
          "data": {
            "text/plain": [
              "array([0.00498686, 0.01843061, 0.02856003, 0.03770077, 0.03818092,\n",
              "       0.0449142 , 0.04815441, 0.0484055 , 0.05160406, 0.06211547,\n",
              "       0.06414577, 0.0748948 , 0.08886428, 0.08900885, 0.1151853 ,\n",
              "       0.13055318, 0.1358873 , 0.1406211 , 0.14491263, 0.15761251,\n",
              "       0.16211741, 0.16763832, 0.18404151, 0.18652002, 0.19100095,\n",
              "       0.19642922, 0.19763387, 0.2016546 , 0.20486252, 0.2282631 ,\n",
              "       0.2473255 , 0.27000365, 0.27384228, 0.28904529, 0.29864405,\n",
              "       0.35905466, 0.36483036, 0.36725032, 0.37662261, 0.3877577 ,\n",
              "       0.38978856, 0.39485752, 0.40025127, 0.40188842, 0.4180588 ,\n",
              "       0.42295127, 0.4318669 , 0.43472349, 0.46877408, 0.49547251,\n",
              "       0.50806082, 0.50968826, 0.52525902, 0.5370861 , 0.5429912 ,\n",
              "       0.60669944, 0.61161987, 0.62183994, 0.62363728, 0.62450169,\n",
              "       0.63431425, 0.64271917, 0.64393008, 0.65743728, 0.67944449,\n",
              "       0.69111663, 0.69851822, 0.70730685, 0.7081073 , 0.71483617,\n",
              "       0.71550699, 0.71922429, 0.72425065, 0.74387235, 0.74798676,\n",
              "       0.75850239, 0.7726446 , 0.77655386, 0.78121084, 0.78392736,\n",
              "       0.78474023, 0.79883859, 0.8073644 , 0.8338271 , 0.83613785,\n",
              "       0.83962015, 0.85387518, 0.85806223, 0.88162379, 0.88803763,\n",
              "       0.89382132, 0.91919181, 0.91925617, 0.92533536, 0.9299728 ,\n",
              "       0.9486733 , 0.95862186, 0.96678409, 0.97836662, 0.98974878])"
            ]
          },
          "execution_count": 32,
          "metadata": {},
          "output_type": "execute_result"
        }
      ],
      "source": [
        "rand_array"
      ]
    },
    {
      "cell_type": "code",
      "execution_count": null,
      "metadata": {
        "id": "phDCHtuc1sxh",
        "outputId": "9ca51378-ee77-47a9-fb6e-f069158334b4"
      },
      "outputs": [
        {
          "name": "stdout",
          "output_type": "stream",
          "text": [
            "0.004986860587690711\n",
            "0.018430606869119792\n",
            "0.028560032000422675\n",
            "0.03770077498876212\n",
            "0.038180921395257306\n",
            "0.04491419682752795\n",
            "0.04815441134234433\n",
            "0.04840549693595286\n",
            "0.051604058226229155\n",
            "0.06211547020045027\n",
            "0.06414576831871677\n",
            "0.07489479938357557\n",
            "0.08886428148680414\n",
            "0.08900885313770879\n",
            "0.11518529849242709\n",
            "0.13055317668168764\n",
            "0.13588729525216048\n",
            "0.14062109964278258\n",
            "0.14491263085000727\n",
            "0.1576125050838626\n",
            "0.16211741060993512\n",
            "0.16763831730034828\n",
            "0.18404150913809703\n",
            "0.18652001593927703\n",
            "0.19100094652871236\n",
            "0.19642921975257177\n",
            "0.19763386519646708\n",
            "0.20165459621927528\n",
            "0.20486252125549664\n",
            "0.22826309703185166\n",
            "0.24732550186786684\n",
            "0.27000364584702563\n",
            "0.273842280827415\n",
            "0.2890452851652666\n",
            "0.2986440485659144\n",
            "0.3590546626148432\n",
            "0.36483035533094743\n",
            "0.3672503237267529\n",
            "0.3766226129738659\n",
            "0.3877576959266029\n",
            "0.3897885639492479\n",
            "0.3948575236565727\n",
            "0.4002512691289456\n",
            "0.401888417785383\n",
            "0.418058799116938\n",
            "0.42295126884163936\n",
            "0.4318668985106009\n",
            "0.4347234929418955\n",
            "0.4687740833111157\n",
            "0.49547251031216333\n",
            "0.508060822309511\n",
            "0.5096882635028773\n",
            "0.5252590243077719\n",
            "0.5370861013700281\n",
            "0.5429912002647671\n",
            "0.6066994438961344\n",
            "0.6116198657456765\n",
            "0.6218399404454459\n",
            "0.6236372827929144\n",
            "0.6245016886035526\n",
            "0.6343142471012516\n",
            "0.6427191695096041\n",
            "0.6439300788718071\n",
            "0.6574372797511878\n",
            "0.6794444909416358\n",
            "0.6911166277690332\n",
            "0.698518218140506\n",
            "0.7073068497856636\n",
            "0.7081073048773519\n",
            "0.714836169643908\n",
            "0.7155069949344212\n",
            "0.7192242868866893\n",
            "0.724250651793828\n",
            "0.743872349120452\n",
            "0.7479867633160964\n",
            "0.7585023876303607\n",
            "0.7726446039527107\n",
            "0.7765538639303657\n",
            "0.78121083522608\n",
            "0.7839273553665624\n",
            "0.7847402309464435\n",
            "0.7988385946740699\n",
            "0.8073644027038201\n",
            "0.8338271001006863\n",
            "0.8361378525807167\n",
            "0.8396201465051899\n",
            "0.853875177098577\n",
            "0.8580622288727029\n",
            "0.8816237881633677\n",
            "0.8880376280588481\n",
            "0.8938213196991652\n",
            "0.9191918128577241\n",
            "0.9192561723845344\n",
            "0.925335359919484\n",
            "0.9299727996586826\n",
            "0.9486732977910368\n",
            "0.9586218564523526\n",
            "0.9667840895860588\n",
            "0.9783666246808698\n",
            "0.9897487786307914\n"
          ]
        }
      ],
      "source": [
        "for i in rand_array:\n",
        "    print(i)"
      ]
    },
    {
      "cell_type": "code",
      "execution_count": null,
      "metadata": {
        "id": "SFvKSWxx1sxi"
      },
      "outputs": [],
      "source": [
        "# Exercises."
      ]
    },
    {
      "cell_type": "code",
      "execution_count": null,
      "metadata": {
        "id": "Gcg_p31n1sxi",
        "outputId": "4f7c6a83-625b-486a-bc0e-2627c57e90a7"
      },
      "outputs": [
        {
          "data": {
            "text/plain": [
              "500.0"
            ]
          },
          "execution_count": 35,
          "metadata": {},
          "output_type": "execute_result"
        }
      ],
      "source": [
        "x=np.linspace(0,10,100)\n",
        "x.sum()"
      ]
    },
    {
      "cell_type": "code",
      "execution_count": null,
      "metadata": {
        "id": "ZIDj5rht1sxi"
      },
      "outputs": [],
      "source": []
    },
    {
      "cell_type": "code",
      "execution_count": null,
      "metadata": {
        "id": "dRpsCMPI1sxi",
        "outputId": "8467438b-21c6-43b5-d9c0-9fadfb083ee3"
      },
      "outputs": [
        {
          "data": {
            "text/plain": [
              "array([ 2.        ,  2.70707071,  3.41414141,  4.12121212,  4.82828283,\n",
              "        5.53535354,  6.24242424,  6.94949495,  7.65656566,  8.36363636,\n",
              "        9.07070707,  9.77777778, 10.48484848, 11.19191919, 11.8989899 ,\n",
              "       12.60606061, 13.31313131, 14.02020202, 14.72727273, 15.43434343,\n",
              "       16.14141414, 16.84848485, 17.55555556, 18.26262626, 18.96969697,\n",
              "       19.67676768, 20.38383838, 21.09090909, 21.7979798 , 22.50505051,\n",
              "       23.21212121, 23.91919192, 24.62626263, 25.33333333, 26.04040404,\n",
              "       26.74747475, 27.45454545, 28.16161616, 28.86868687, 29.57575758,\n",
              "       30.28282828, 30.98989899, 31.6969697 , 32.4040404 , 33.11111111,\n",
              "       33.81818182, 34.52525253, 35.23232323, 35.93939394, 36.64646465,\n",
              "       37.35353535, 38.06060606, 38.76767677, 39.47474747, 40.18181818,\n",
              "       40.88888889, 41.5959596 , 42.3030303 , 43.01010101, 43.71717172,\n",
              "       44.42424242, 45.13131313, 45.83838384, 46.54545455, 47.25252525,\n",
              "       47.95959596, 48.66666667, 49.37373737, 50.08080808, 50.78787879,\n",
              "       51.49494949, 52.2020202 , 52.90909091, 53.61616162, 54.32323232,\n",
              "       55.03030303, 55.73737374, 56.44444444, 57.15151515, 57.85858586,\n",
              "       58.56565657, 59.27272727, 59.97979798, 60.68686869, 61.39393939,\n",
              "       62.1010101 , 62.80808081, 63.51515152, 64.22222222, 64.92929293,\n",
              "       65.63636364, 66.34343434, 67.05050505, 67.75757576, 68.46464646,\n",
              "       69.17171717, 69.87878788, 70.58585859, 71.29292929, 72.        ])"
            ]
          },
          "execution_count": 36,
          "metadata": {},
          "output_type": "execute_result"
        }
      ],
      "source": [
        "#Calculate y=7x+2\n",
        "y=(7*x)+2\n",
        "y"
      ]
    },
    {
      "cell_type": "code",
      "execution_count": null,
      "metadata": {
        "id": "8tnD8kv21sxi",
        "outputId": "1163fa02-1836-4e3b-cc94-b9bc4eb93430"
      },
      "outputs": [
        {
          "data": {
            "text/plain": [
              "array([0.        , 0.01020304, 0.04081216, 0.09182736, 0.16324865,\n",
              "       0.25507601, 0.36730946, 0.49994898, 0.65299459, 0.82644628])"
            ]
          },
          "execution_count": 37,
          "metadata": {},
          "output_type": "execute_result"
        }
      ],
      "source": [
        "#Calculate y=x**2 for the first 10 elements\n",
        "first_10=x[0:10]\n",
        "y=first_10**2\n",
        "y"
      ]
    },
    {
      "cell_type": "code",
      "execution_count": null,
      "metadata": {
        "id": "UxyzoS7l1sxm",
        "outputId": "5e5419c5-8f03-4508-af4d-42cde594784a"
      },
      "outputs": [
        {
          "data": {
            "text/plain": [
              "0.040812162024283234"
            ]
          },
          "execution_count": 38,
          "metadata": {},
          "output_type": "execute_result"
        }
      ],
      "source": [
        "x[2]*x[2]"
      ]
    },
    {
      "cell_type": "code",
      "execution_count": null,
      "metadata": {
        "id": "lV54PBfI1sxm"
      },
      "outputs": [],
      "source": [
        "#Define a 100 equally spaced points using linspace. And then another 100 random points. And then add x and y together\n",
        "x=np.linspace(0,10,100)\n",
        "\n",
        "y=np.random.random(size=100)\n"
      ]
    },
    {
      "cell_type": "code",
      "execution_count": null,
      "metadata": {
        "id": "KIGz84Mr1sxm"
      },
      "outputs": [],
      "source": [
        "#Add x and y together and save in z\n",
        "z=x+y"
      ]
    },
    {
      "cell_type": "code",
      "execution_count": null,
      "metadata": {
        "id": "3BcdJe_o1sxm"
      },
      "outputs": [],
      "source": [
        "#Calculate the sum of of x,y and z and tell me which one is the largest"
      ]
    },
    {
      "cell_type": "code",
      "execution_count": null,
      "metadata": {
        "id": "fqM-Pd7k1sxm",
        "outputId": "84730a57-4858-459d-82ae-aec6530fb780"
      },
      "outputs": [
        {
          "name": "stdout",
          "output_type": "stream",
          "text": [
            "10.96712153587457\n"
          ]
        }
      ],
      "source": [
        "#calcuate this largest number\n",
        "largest=max(np.max(x),np.max(y),np.max(z))\n",
        "print(largest)"
      ]
    },
    {
      "cell_type": "code",
      "execution_count": null,
      "metadata": {
        "id": "zV6ov-JG1sxm",
        "outputId": "46ffc3eb-a9b0-4d2e-f5e6-01c97660bdcd"
      },
      "outputs": [
        {
          "data": {
            "text/plain": [
              "array([ 0.53786338,  0.15673984,  0.41644095,  0.99521408,  0.85760674,\n",
              "        1.04564536,  0.82006796,  1.51460738,  0.91034795,  1.12076135,\n",
              "        1.66904856,  1.6247293 ,  1.3854229 ,  1.65460289,  2.14193178,\n",
              "        2.50426054,  2.42933489,  2.58684858,  2.04929413,  2.60260531,\n",
              "        2.81302901,  2.41265387,  2.86240887,  2.39772986,  3.08698645,\n",
              "        2.93993908,  3.36108146,  3.46833117,  3.19039688,  3.47163236,\n",
              "        3.35319035,  3.29175487,  3.3627431 ,  3.95663947,  4.29903585,\n",
              "        4.16725022,  4.61354453,  4.29017873,  4.44883823,  4.69017122,\n",
              "        4.80143022,  4.7080398 ,  4.46661973,  4.66156421,  5.19585594,\n",
              "        5.05645147,  5.16903059,  5.39682254,  5.27855398,  5.23236453,\n",
              "        5.76857803,  5.94223712,  5.9921721 ,  5.70276146,  5.6693143 ,\n",
              "        5.79272156,  6.60283973,  5.9447591 ,  6.44621808,  6.18859156,\n",
              "        6.62039863,  6.87427741,  7.10300048,  6.79040407,  7.17774202,\n",
              "        6.72705127,  7.32377862,  6.94553277,  7.02578987,  7.25815647,\n",
              "        7.31314   ,  7.75320626,  7.28916332,  7.80595024,  7.85150411,\n",
              "        7.89274276,  8.10948465,  8.63516363,  8.60298346,  8.60825836,\n",
              "        8.90451966,  9.15543394,  8.83382217,  9.14769689,  8.80747331,\n",
              "        9.48083484,  9.03455497,  9.70999832,  9.57212759,  9.61618575,\n",
              "        9.83715559,  9.24854939,  9.54453222,  9.72461569,  9.76802978,\n",
              "        9.83030095, 10.07110319,  9.81491405, 10.18668683, 10.96712154])"
            ]
          },
          "execution_count": 42,
          "metadata": {},
          "output_type": "execute_result"
        }
      ],
      "source": [
        "z"
      ]
    },
    {
      "cell_type": "code",
      "execution_count": null,
      "metadata": {
        "id": "Lpz5t1OW1sxn",
        "outputId": "2035b2b4-5779-4350-a699-66c5eaf81695"
      },
      "outputs": [
        {
          "name": "stdout",
          "output_type": "stream",
          "text": [
            "500.0\n",
            "50.48122057753568\n",
            "550.4812205775355\n"
          ]
        }
      ],
      "source": [
        "print(x.sum())\n",
        "print(y.sum())\n",
        "print(z.sum())"
      ]
    },
    {
      "cell_type": "code",
      "execution_count": null,
      "metadata": {
        "id": "ljPiKfZD1sxn"
      },
      "outputs": [],
      "source": []
    }
  ],
  "metadata": {
    "kernelspec": {
      "display_name": "Python 3 (ipykernel)",
      "language": "python",
      "name": "python3"
    },
    "language_info": {
      "codemirror_mode": {
        "name": "ipython",
        "version": 3
      },
      "file_extension": ".py",
      "mimetype": "text/x-python",
      "name": "python",
      "nbconvert_exporter": "python",
      "pygments_lexer": "ipython3",
      "version": "3.12.7"
    },
    "colab": {
      "provenance": []
    }
  },
  "nbformat": 4,
  "nbformat_minor": 0
}