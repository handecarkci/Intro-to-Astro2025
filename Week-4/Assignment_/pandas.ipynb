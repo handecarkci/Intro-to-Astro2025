{
  "cells": [
    {
      "cell_type": "markdown",
      "metadata": {
        "id": "ah2ugF6m0rJp"
      },
      "source": [
        "# Data Wrangling in Pandas\n",
        "* <b> Data Sorting:</b> To rearrange values in ascending or descending order.\n",
        "* <b> Data Filtration:</b> To create a subset of available data.\n",
        "* <b> Data Reduction:</b> To eliminate or replace unwanted values.\n",
        "* <b> Data Access:</b> To read or write data files.\n",
        "* <b> Data Processing:</b> To perform aggregation, statistical, and similar operations on specific values."
      ]
    },
    {
      "cell_type": "markdown",
      "metadata": {
        "id": "84e-g6Wd0rJt"
      },
      "source": [
        "## Organising data\n",
        "A | B\n",
        "- | -\n",
        "<img src=\"https://github.com/priyahasan/MSC-Computational-Physics-Lab/blob/main/Row_data.jpg?raw=1\" alt=\"Drawing\" style=\"width: 100px;\"/> | <img src=\"https://github.com/priyahasan/MSC-Computational-Physics-Lab/blob/main/Col_data.jpg?raw=1\" alt=\"Drawing\" style=\"width: 150px;\"/>"
      ]
    },
    {
      "cell_type": "markdown",
      "metadata": {
        "id": "z7IGBr590rJu"
      },
      "source": [
        "A <b> Data frame </b> is a two-dimensional data structure, i.e., data is aligned in a tabular fashion in rows and columns.\n",
        "\n",
        "<b> Features of DataFrame </b>\n",
        "* Potentially columns are of different types\n",
        "* Size – Mutable\n",
        "* Labeled axes (rows and columns)\n",
        "* Can Perform Arithmetic operations on rows and columns"
      ]
    },
    {
      "cell_type": "markdown",
      "metadata": {
        "id": "9ohpaiCS0rJv"
      },
      "source": [
        "int, float, str, lists, tuples, dict..."
      ]
    },
    {
      "cell_type": "code",
      "execution_count": null,
      "metadata": {
        "id": "Pf6EkZX20rJv"
      },
      "outputs": [],
      "source": [
        "a=2+4j"
      ]
    },
    {
      "cell_type": "code",
      "execution_count": null,
      "metadata": {
        "id": "4wpZlJDM0rJy"
      },
      "outputs": [],
      "source": [
        "b=4+8j"
      ]
    },
    {
      "cell_type": "code",
      "execution_count": null,
      "metadata": {
        "id": "O3QLvj3P0rJz",
        "outputId": "802cc753-5a76-4eca-e4de-a9ee1ab3aaa1"
      },
      "outputs": [
        {
          "data": {
            "text/plain": [
              "(6+12j)"
            ]
          },
          "execution_count": 3,
          "metadata": {},
          "output_type": "execute_result"
        }
      ],
      "source": [
        "a+b"
      ]
    },
    {
      "cell_type": "code",
      "execution_count": null,
      "metadata": {
        "id": "mAthekID0rJ1",
        "outputId": "fd82b2bc-e4a9-4072-f761-504c1c47bf23"
      },
      "outputs": [
        {
          "data": {
            "text/plain": [
              "(-24+32j)"
            ]
          },
          "execution_count": 4,
          "metadata": {},
          "output_type": "execute_result"
        }
      ],
      "source": [
        "a*b"
      ]
    },
    {
      "cell_type": "markdown",
      "metadata": {
        "id": "dGvWpd0c0rJ2"
      },
      "source": [
        "### Creating empty DataFrame"
      ]
    },
    {
      "cell_type": "code",
      "execution_count": null,
      "metadata": {
        "id": "OezeKpRP0rJ3"
      },
      "outputs": [],
      "source": [
        "import pandas as pd"
      ]
    },
    {
      "cell_type": "code",
      "execution_count": null,
      "metadata": {
        "id": "1w8ibhgI0rJ3"
      },
      "outputs": [],
      "source": [
        "df=pd.DataFrame()"
      ]
    },
    {
      "cell_type": "code",
      "execution_count": null,
      "metadata": {
        "colab": {
          "base_uri": "https://localhost:8080/"
        },
        "id": "2-cOHnF90rJ3",
        "outputId": "75b1f678-4b05-4076-c02e-2b0cb61bab62"
      },
      "outputs": [
        {
          "name": "stdout",
          "output_type": "stream",
          "text": [
            "Empty DataFrame\n",
            "Columns: []\n",
            "Index: []\n"
          ]
        }
      ],
      "source": [
        "print(df)"
      ]
    },
    {
      "cell_type": "markdown",
      "metadata": {
        "id": "HHMYfbgb0rJ4"
      },
      "source": [
        "### Creating DataFrame from list"
      ]
    },
    {
      "cell_type": "code",
      "execution_count": null,
      "metadata": {
        "id": "6G0Joltj0rJ4"
      },
      "outputs": [],
      "source": [
        "l=[1,2,3,4]"
      ]
    },
    {
      "cell_type": "code",
      "execution_count": null,
      "metadata": {
        "id": "GuO07LEL0rJ5"
      },
      "outputs": [],
      "source": [
        "df=pd.DataFrame(l)"
      ]
    },
    {
      "cell_type": "code",
      "execution_count": null,
      "metadata": {
        "colab": {
          "base_uri": "https://localhost:8080/"
        },
        "id": "HB9Mjt7f0rJ5",
        "outputId": "841ec9e6-b3fb-4a07-80d0-cf48f0bdd0a0"
      },
      "outputs": [
        {
          "name": "stdout",
          "output_type": "stream",
          "text": [
            "   0\n",
            "0  1\n",
            "1  2\n",
            "2  3\n",
            "3  4\n"
          ]
        }
      ],
      "source": [
        "print(df)\n"
      ]
    },
    {
      "cell_type": "markdown",
      "metadata": {
        "id": "kK0G5pNb0rJ6"
      },
      "source": [
        "A | B\n",
        "- | -\n",
        "<img src=\"https://github.com/priyahasan/MSC-Computational-Physics-Lab/blob/main/DataFrame1.jpg?raw=1\" alt=\"Drawing\" style=\"width: 225px;\"/> | <img src=\"https://github.com/priyahasan/MSC-Computational-Physics-Lab/blob/main/DataFrame2.jpg?raw=1\" alt=\"Drawing\" style=\"width: 225px;\"/>"
      ]
    },
    {
      "cell_type": "code",
      "execution_count": null,
      "metadata": {
        "id": "XwB4tiBE0rJ6"
      },
      "outputs": [],
      "source": [
        "df = pd.DataFrame(\n",
        "    { \"a\" : [1, 2, 3],\n",
        "      \"b\" : [3, 4, 5],\n",
        "      \"c\" : [5, 6, 7]},\n",
        "      index = [\"r1\",\"r2\",\"r3\"])"
      ]
    },
    {
      "cell_type": "code",
      "execution_count": null,
      "metadata": {
        "id": "AoC9unUO0rJ6",
        "outputId": "657f9c3e-e3ca-4fd1-ea68-992aa552f9cf"
      },
      "outputs": [
        {
          "data": {
            "text/html": [
              "<div>\n",
              "<style scoped>\n",
              "    .dataframe tbody tr th:only-of-type {\n",
              "        vertical-align: middle;\n",
              "    }\n",
              "\n",
              "    .dataframe tbody tr th {\n",
              "        vertical-align: top;\n",
              "    }\n",
              "\n",
              "    .dataframe thead th {\n",
              "        text-align: right;\n",
              "    }\n",
              "</style>\n",
              "<table border=\"1\" class=\"dataframe\">\n",
              "  <thead>\n",
              "    <tr style=\"text-align: right;\">\n",
              "      <th></th>\n",
              "      <th>a</th>\n",
              "      <th>b</th>\n",
              "      <th>c</th>\n",
              "    </tr>\n",
              "  </thead>\n",
              "  <tbody>\n",
              "    <tr>\n",
              "      <th>r1</th>\n",
              "      <td>1</td>\n",
              "      <td>3</td>\n",
              "      <td>5</td>\n",
              "    </tr>\n",
              "    <tr>\n",
              "      <th>r2</th>\n",
              "      <td>2</td>\n",
              "      <td>4</td>\n",
              "      <td>6</td>\n",
              "    </tr>\n",
              "    <tr>\n",
              "      <th>r3</th>\n",
              "      <td>3</td>\n",
              "      <td>5</td>\n",
              "      <td>7</td>\n",
              "    </tr>\n",
              "  </tbody>\n",
              "</table>\n",
              "</div>"
            ],
            "text/plain": [
              "    a  b  c\n",
              "r1  1  3  5\n",
              "r2  2  4  6\n",
              "r3  3  5  7"
            ]
          },
          "execution_count": 12,
          "metadata": {},
          "output_type": "execute_result"
        }
      ],
      "source": [
        "df"
      ]
    },
    {
      "cell_type": "code",
      "execution_count": null,
      "metadata": {
        "id": "9Um9upbo0rJ6"
      },
      "outputs": [],
      "source": [
        "df2 = pd.DataFrame(\n",
        "    [[1, 2, 3],\n",
        "     [3, 4, 5],\n",
        "     [5, 6, 7]],\n",
        "      index = [\"row1\",\"row2\",\"row3\"],\n",
        "      columns = [\"a\",\"b\",\"c\"])"
      ]
    },
    {
      "cell_type": "code",
      "execution_count": null,
      "metadata": {
        "colab": {
          "base_uri": "https://localhost:8080/",
          "height": 143
        },
        "id": "2YEzVtQW0rJ7",
        "outputId": "782f62d2-4a2a-41d0-9f91-dfceff897304"
      },
      "outputs": [
        {
          "data": {
            "text/html": [
              "<div>\n",
              "<style scoped>\n",
              "    .dataframe tbody tr th:only-of-type {\n",
              "        vertical-align: middle;\n",
              "    }\n",
              "\n",
              "    .dataframe tbody tr th {\n",
              "        vertical-align: top;\n",
              "    }\n",
              "\n",
              "    .dataframe thead th {\n",
              "        text-align: right;\n",
              "    }\n",
              "</style>\n",
              "<table border=\"1\" class=\"dataframe\">\n",
              "  <thead>\n",
              "    <tr style=\"text-align: right;\">\n",
              "      <th></th>\n",
              "      <th>a</th>\n",
              "      <th>b</th>\n",
              "      <th>c</th>\n",
              "    </tr>\n",
              "  </thead>\n",
              "  <tbody>\n",
              "    <tr>\n",
              "      <th>row1</th>\n",
              "      <td>1</td>\n",
              "      <td>2</td>\n",
              "      <td>3</td>\n",
              "    </tr>\n",
              "    <tr>\n",
              "      <th>row2</th>\n",
              "      <td>3</td>\n",
              "      <td>4</td>\n",
              "      <td>5</td>\n",
              "    </tr>\n",
              "    <tr>\n",
              "      <th>row3</th>\n",
              "      <td>5</td>\n",
              "      <td>6</td>\n",
              "      <td>7</td>\n",
              "    </tr>\n",
              "  </tbody>\n",
              "</table>\n",
              "</div>"
            ],
            "text/plain": [
              "      a  b  c\n",
              "row1  1  2  3\n",
              "row2  3  4  5\n",
              "row3  5  6  7"
            ]
          },
          "execution_count": 14,
          "metadata": {},
          "output_type": "execute_result"
        }
      ],
      "source": [
        "df2"
      ]
    },
    {
      "cell_type": "code",
      "execution_count": null,
      "metadata": {
        "colab": {
          "base_uri": "https://localhost:8080/"
        },
        "id": "efvWiPcE0rJ7",
        "outputId": "0b210b92-baa7-43cc-c9b9-dfaf6b497a25"
      },
      "outputs": [
        {
          "name": "stdout",
          "output_type": "stream",
          "text": [
            "    Name  Age\n",
            "0  Priya   40\n",
            "1  Mamta   32\n",
            "2   Jill   25\n"
          ]
        }
      ],
      "source": [
        "data=[[\"Priya\",40],[\"Mamta\",32],[\"Jill\",25]]\n",
        "myData=pd.DataFrame(data,columns=[\"Name\",\"Age\"])\n",
        "print(myData)"
      ]
    },
    {
      "cell_type": "code",
      "execution_count": null,
      "metadata": {
        "id": "mEYlwoL40rJ8",
        "outputId": "b5ff73c9-39de-48d1-cc8c-d7a207b93ef3"
      },
      "outputs": [
        {
          "ename": "FileNotFoundError",
          "evalue": "[Errno 2] No such file or directory: 'm3.csv'",
          "output_type": "error",
          "traceback": [
            "\u001b[1;31m---------------------------------------------------------------------------\u001b[0m",
            "\u001b[1;31mFileNotFoundError\u001b[0m                         Traceback (most recent call last)",
            "Cell \u001b[1;32mIn[16], line 1\u001b[0m\n\u001b[1;32m----> 1\u001b[0m df\u001b[38;5;241m=\u001b[39mpd\u001b[38;5;241m.\u001b[39mread_csv(\u001b[38;5;124m'\u001b[39m\u001b[38;5;124mm3.csv\u001b[39m\u001b[38;5;124m'\u001b[39m)\n",
            "File \u001b[1;32m~\\AppData\\Local\\anaconda3\\Lib\\site-packages\\pandas\\io\\parsers\\readers.py:1026\u001b[0m, in \u001b[0;36mread_csv\u001b[1;34m(filepath_or_buffer, sep, delimiter, header, names, index_col, usecols, dtype, engine, converters, true_values, false_values, skipinitialspace, skiprows, skipfooter, nrows, na_values, keep_default_na, na_filter, verbose, skip_blank_lines, parse_dates, infer_datetime_format, keep_date_col, date_parser, date_format, dayfirst, cache_dates, iterator, chunksize, compression, thousands, decimal, lineterminator, quotechar, quoting, doublequote, escapechar, comment, encoding, encoding_errors, dialect, on_bad_lines, delim_whitespace, low_memory, memory_map, float_precision, storage_options, dtype_backend)\u001b[0m\n\u001b[0;32m   1013\u001b[0m kwds_defaults \u001b[38;5;241m=\u001b[39m _refine_defaults_read(\n\u001b[0;32m   1014\u001b[0m     dialect,\n\u001b[0;32m   1015\u001b[0m     delimiter,\n\u001b[1;32m   (...)\u001b[0m\n\u001b[0;32m   1022\u001b[0m     dtype_backend\u001b[38;5;241m=\u001b[39mdtype_backend,\n\u001b[0;32m   1023\u001b[0m )\n\u001b[0;32m   1024\u001b[0m kwds\u001b[38;5;241m.\u001b[39mupdate(kwds_defaults)\n\u001b[1;32m-> 1026\u001b[0m \u001b[38;5;28;01mreturn\u001b[39;00m _read(filepath_or_buffer, kwds)\n",
            "File \u001b[1;32m~\\AppData\\Local\\anaconda3\\Lib\\site-packages\\pandas\\io\\parsers\\readers.py:620\u001b[0m, in \u001b[0;36m_read\u001b[1;34m(filepath_or_buffer, kwds)\u001b[0m\n\u001b[0;32m    617\u001b[0m _validate_names(kwds\u001b[38;5;241m.\u001b[39mget(\u001b[38;5;124m\"\u001b[39m\u001b[38;5;124mnames\u001b[39m\u001b[38;5;124m\"\u001b[39m, \u001b[38;5;28;01mNone\u001b[39;00m))\n\u001b[0;32m    619\u001b[0m \u001b[38;5;66;03m# Create the parser.\u001b[39;00m\n\u001b[1;32m--> 620\u001b[0m parser \u001b[38;5;241m=\u001b[39m TextFileReader(filepath_or_buffer, \u001b[38;5;241m*\u001b[39m\u001b[38;5;241m*\u001b[39mkwds)\n\u001b[0;32m    622\u001b[0m \u001b[38;5;28;01mif\u001b[39;00m chunksize \u001b[38;5;129;01mor\u001b[39;00m iterator:\n\u001b[0;32m    623\u001b[0m     \u001b[38;5;28;01mreturn\u001b[39;00m parser\n",
            "File \u001b[1;32m~\\AppData\\Local\\anaconda3\\Lib\\site-packages\\pandas\\io\\parsers\\readers.py:1620\u001b[0m, in \u001b[0;36mTextFileReader.__init__\u001b[1;34m(self, f, engine, **kwds)\u001b[0m\n\u001b[0;32m   1617\u001b[0m     \u001b[38;5;28mself\u001b[39m\u001b[38;5;241m.\u001b[39moptions[\u001b[38;5;124m\"\u001b[39m\u001b[38;5;124mhas_index_names\u001b[39m\u001b[38;5;124m\"\u001b[39m] \u001b[38;5;241m=\u001b[39m kwds[\u001b[38;5;124m\"\u001b[39m\u001b[38;5;124mhas_index_names\u001b[39m\u001b[38;5;124m\"\u001b[39m]\n\u001b[0;32m   1619\u001b[0m \u001b[38;5;28mself\u001b[39m\u001b[38;5;241m.\u001b[39mhandles: IOHandles \u001b[38;5;241m|\u001b[39m \u001b[38;5;28;01mNone\u001b[39;00m \u001b[38;5;241m=\u001b[39m \u001b[38;5;28;01mNone\u001b[39;00m\n\u001b[1;32m-> 1620\u001b[0m \u001b[38;5;28mself\u001b[39m\u001b[38;5;241m.\u001b[39m_engine \u001b[38;5;241m=\u001b[39m \u001b[38;5;28mself\u001b[39m\u001b[38;5;241m.\u001b[39m_make_engine(f, \u001b[38;5;28mself\u001b[39m\u001b[38;5;241m.\u001b[39mengine)\n",
            "File \u001b[1;32m~\\AppData\\Local\\anaconda3\\Lib\\site-packages\\pandas\\io\\parsers\\readers.py:1880\u001b[0m, in \u001b[0;36mTextFileReader._make_engine\u001b[1;34m(self, f, engine)\u001b[0m\n\u001b[0;32m   1878\u001b[0m     \u001b[38;5;28;01mif\u001b[39;00m \u001b[38;5;124m\"\u001b[39m\u001b[38;5;124mb\u001b[39m\u001b[38;5;124m\"\u001b[39m \u001b[38;5;129;01mnot\u001b[39;00m \u001b[38;5;129;01min\u001b[39;00m mode:\n\u001b[0;32m   1879\u001b[0m         mode \u001b[38;5;241m+\u001b[39m\u001b[38;5;241m=\u001b[39m \u001b[38;5;124m\"\u001b[39m\u001b[38;5;124mb\u001b[39m\u001b[38;5;124m\"\u001b[39m\n\u001b[1;32m-> 1880\u001b[0m \u001b[38;5;28mself\u001b[39m\u001b[38;5;241m.\u001b[39mhandles \u001b[38;5;241m=\u001b[39m get_handle(\n\u001b[0;32m   1881\u001b[0m     f,\n\u001b[0;32m   1882\u001b[0m     mode,\n\u001b[0;32m   1883\u001b[0m     encoding\u001b[38;5;241m=\u001b[39m\u001b[38;5;28mself\u001b[39m\u001b[38;5;241m.\u001b[39moptions\u001b[38;5;241m.\u001b[39mget(\u001b[38;5;124m\"\u001b[39m\u001b[38;5;124mencoding\u001b[39m\u001b[38;5;124m\"\u001b[39m, \u001b[38;5;28;01mNone\u001b[39;00m),\n\u001b[0;32m   1884\u001b[0m     compression\u001b[38;5;241m=\u001b[39m\u001b[38;5;28mself\u001b[39m\u001b[38;5;241m.\u001b[39moptions\u001b[38;5;241m.\u001b[39mget(\u001b[38;5;124m\"\u001b[39m\u001b[38;5;124mcompression\u001b[39m\u001b[38;5;124m\"\u001b[39m, \u001b[38;5;28;01mNone\u001b[39;00m),\n\u001b[0;32m   1885\u001b[0m     memory_map\u001b[38;5;241m=\u001b[39m\u001b[38;5;28mself\u001b[39m\u001b[38;5;241m.\u001b[39moptions\u001b[38;5;241m.\u001b[39mget(\u001b[38;5;124m\"\u001b[39m\u001b[38;5;124mmemory_map\u001b[39m\u001b[38;5;124m\"\u001b[39m, \u001b[38;5;28;01mFalse\u001b[39;00m),\n\u001b[0;32m   1886\u001b[0m     is_text\u001b[38;5;241m=\u001b[39mis_text,\n\u001b[0;32m   1887\u001b[0m     errors\u001b[38;5;241m=\u001b[39m\u001b[38;5;28mself\u001b[39m\u001b[38;5;241m.\u001b[39moptions\u001b[38;5;241m.\u001b[39mget(\u001b[38;5;124m\"\u001b[39m\u001b[38;5;124mencoding_errors\u001b[39m\u001b[38;5;124m\"\u001b[39m, \u001b[38;5;124m\"\u001b[39m\u001b[38;5;124mstrict\u001b[39m\u001b[38;5;124m\"\u001b[39m),\n\u001b[0;32m   1888\u001b[0m     storage_options\u001b[38;5;241m=\u001b[39m\u001b[38;5;28mself\u001b[39m\u001b[38;5;241m.\u001b[39moptions\u001b[38;5;241m.\u001b[39mget(\u001b[38;5;124m\"\u001b[39m\u001b[38;5;124mstorage_options\u001b[39m\u001b[38;5;124m\"\u001b[39m, \u001b[38;5;28;01mNone\u001b[39;00m),\n\u001b[0;32m   1889\u001b[0m )\n\u001b[0;32m   1890\u001b[0m \u001b[38;5;28;01massert\u001b[39;00m \u001b[38;5;28mself\u001b[39m\u001b[38;5;241m.\u001b[39mhandles \u001b[38;5;129;01mis\u001b[39;00m \u001b[38;5;129;01mnot\u001b[39;00m \u001b[38;5;28;01mNone\u001b[39;00m\n\u001b[0;32m   1891\u001b[0m f \u001b[38;5;241m=\u001b[39m \u001b[38;5;28mself\u001b[39m\u001b[38;5;241m.\u001b[39mhandles\u001b[38;5;241m.\u001b[39mhandle\n",
            "File \u001b[1;32m~\\AppData\\Local\\anaconda3\\Lib\\site-packages\\pandas\\io\\common.py:873\u001b[0m, in \u001b[0;36mget_handle\u001b[1;34m(path_or_buf, mode, encoding, compression, memory_map, is_text, errors, storage_options)\u001b[0m\n\u001b[0;32m    868\u001b[0m \u001b[38;5;28;01melif\u001b[39;00m \u001b[38;5;28misinstance\u001b[39m(handle, \u001b[38;5;28mstr\u001b[39m):\n\u001b[0;32m    869\u001b[0m     \u001b[38;5;66;03m# Check whether the filename is to be opened in binary mode.\u001b[39;00m\n\u001b[0;32m    870\u001b[0m     \u001b[38;5;66;03m# Binary mode does not support 'encoding' and 'newline'.\u001b[39;00m\n\u001b[0;32m    871\u001b[0m     \u001b[38;5;28;01mif\u001b[39;00m ioargs\u001b[38;5;241m.\u001b[39mencoding \u001b[38;5;129;01mand\u001b[39;00m \u001b[38;5;124m\"\u001b[39m\u001b[38;5;124mb\u001b[39m\u001b[38;5;124m\"\u001b[39m \u001b[38;5;129;01mnot\u001b[39;00m \u001b[38;5;129;01min\u001b[39;00m ioargs\u001b[38;5;241m.\u001b[39mmode:\n\u001b[0;32m    872\u001b[0m         \u001b[38;5;66;03m# Encoding\u001b[39;00m\n\u001b[1;32m--> 873\u001b[0m         handle \u001b[38;5;241m=\u001b[39m \u001b[38;5;28mopen\u001b[39m(\n\u001b[0;32m    874\u001b[0m             handle,\n\u001b[0;32m    875\u001b[0m             ioargs\u001b[38;5;241m.\u001b[39mmode,\n\u001b[0;32m    876\u001b[0m             encoding\u001b[38;5;241m=\u001b[39mioargs\u001b[38;5;241m.\u001b[39mencoding,\n\u001b[0;32m    877\u001b[0m             errors\u001b[38;5;241m=\u001b[39merrors,\n\u001b[0;32m    878\u001b[0m             newline\u001b[38;5;241m=\u001b[39m\u001b[38;5;124m\"\u001b[39m\u001b[38;5;124m\"\u001b[39m,\n\u001b[0;32m    879\u001b[0m         )\n\u001b[0;32m    880\u001b[0m     \u001b[38;5;28;01melse\u001b[39;00m:\n\u001b[0;32m    881\u001b[0m         \u001b[38;5;66;03m# Binary mode\u001b[39;00m\n\u001b[0;32m    882\u001b[0m         handle \u001b[38;5;241m=\u001b[39m \u001b[38;5;28mopen\u001b[39m(handle, ioargs\u001b[38;5;241m.\u001b[39mmode)\n",
            "\u001b[1;31mFileNotFoundError\u001b[0m: [Errno 2] No such file or directory: 'm3.csv'"
          ]
        }
      ],
      "source": [
        "df=pd.read_csv('m3.csv')"
      ]
    },
    {
      "cell_type": "code",
      "execution_count": null,
      "metadata": {
        "id": "cBDmT9qD0rJ8"
      },
      "outputs": [],
      "source": [
        "print(df)"
      ]
    },
    {
      "cell_type": "code",
      "execution_count": null,
      "metadata": {
        "id": "e8lPPkOW0rJ8"
      },
      "outputs": [],
      "source": [
        "df"
      ]
    },
    {
      "cell_type": "code",
      "execution_count": null,
      "metadata": {
        "id": "57jvNQbr0rJ9"
      },
      "outputs": [],
      "source": [
        "pip install ydata-profiling"
      ]
    },
    {
      "cell_type": "code",
      "execution_count": null,
      "metadata": {
        "id": "ijIt_nNh0rJ9"
      },
      "outputs": [],
      "source": [
        "from ydata_profiling import ProfileReport"
      ]
    },
    {
      "cell_type": "code",
      "execution_count": null,
      "metadata": {
        "id": "c7gzSwvn0rJ-"
      },
      "outputs": [],
      "source": [
        "report = ProfileReport(df)\n",
        "report"
      ]
    },
    {
      "cell_type": "code",
      "execution_count": null,
      "metadata": {
        "id": "6ZIDw1S60rJ-"
      },
      "outputs": [],
      "source": [
        "type(df)"
      ]
    },
    {
      "cell_type": "code",
      "execution_count": null,
      "metadata": {
        "id": "-dvsuWO40rJ_"
      },
      "outputs": [],
      "source": [
        "type(df['deg'])"
      ]
    },
    {
      "cell_type": "code",
      "execution_count": null,
      "metadata": {
        "id": "D2jFtf0E0rKA"
      },
      "outputs": [],
      "source": [
        "type(df['parallax'])"
      ]
    },
    {
      "cell_type": "markdown",
      "metadata": {
        "id": "2TEbm39D0rKA"
      },
      "source": [
        "A | B|C|D\n",
        "- | - | - | -\n",
        "<img src=\"https://github.com/priyahasan/MSC-Computational-Physics-Lab/blob/main/Df_sort.jpg?raw=1\" alt=\"Drawing\" style=\"width: 225px;\"/> | <img src=\"https://github.com/priyahasan/MSC-Computational-Physics-Lab/blob/main/ReshapingData.jpg?raw=1\" alt=\"Drawing\" style=\"width: 225px;\"/> | <img src=\"https://github.com/priyahasan/MSC-Computational-Physics-Lab/blob/main/Df_SubsetRows.jpg?raw=1\" alt=\"Drawing\" style=\"width: 225px;\"/> | <img src=\"https://github.com/priyahasan/MSC-Computational-Physics-Lab/blob/main/DF_SubsetColumn.jpg?raw=1\" alt=\"Drawing\" style=\"width: 225px;\"/>"
      ]
    },
    {
      "cell_type": "code",
      "execution_count": null,
      "metadata": {
        "id": "oj-1TmcE0rKA",
        "scrolled": true
      },
      "outputs": [],
      "source": [
        "df.sort_values(\"parallax\")\n",
        "df"
      ]
    },
    {
      "cell_type": "code",
      "execution_count": null,
      "metadata": {
        "id": "vw2dNwwL0rKB"
      },
      "outputs": [],
      "source": [
        "df.head(8)"
      ]
    },
    {
      "cell_type": "code",
      "execution_count": null,
      "metadata": {
        "id": "PKvR0hiu0rKB"
      },
      "outputs": [],
      "source": [
        "df.tail()"
      ]
    },
    {
      "cell_type": "code",
      "execution_count": null,
      "metadata": {
        "id": "Fkw0zDWs0rKD",
        "scrolled": true
      },
      "outputs": [],
      "source": [
        "df.drop(columns=[\"km/s\"])"
      ]
    },
    {
      "cell_type": "code",
      "execution_count": null,
      "metadata": {
        "id": "v7N3RyxH0rKD"
      },
      "outputs": [],
      "source": [
        "df.head()"
      ]
    },
    {
      "cell_type": "code",
      "execution_count": null,
      "metadata": {
        "id": "jhEb2h7S0rKE"
      },
      "outputs": [],
      "source": [
        "df.tail(10)"
      ]
    },
    {
      "cell_type": "code",
      "execution_count": null,
      "metadata": {
        "id": "auohYpA_0rKE"
      },
      "outputs": [],
      "source": [
        "df.head(4)"
      ]
    },
    {
      "cell_type": "code",
      "execution_count": null,
      "metadata": {
        "id": "jj8obK5U0rKR"
      },
      "outputs": [],
      "source": [
        "df.describe()"
      ]
    },
    {
      "cell_type": "code",
      "execution_count": null,
      "metadata": {
        "id": "26qb0a6V0rKS"
      },
      "outputs": [],
      "source": [
        "myData.describe()"
      ]
    },
    {
      "cell_type": "code",
      "execution_count": null,
      "metadata": {
        "id": "5Lp5LQxC0rKT"
      },
      "outputs": [],
      "source": [
        "df.describe()"
      ]
    },
    {
      "cell_type": "code",
      "execution_count": null,
      "metadata": {
        "id": "h839qc010rKT"
      },
      "outputs": [],
      "source": [
        "df.columns=['RA','Dec','Parallax','PMRA','PMDEC','vrad']"
      ]
    },
    {
      "cell_type": "code",
      "execution_count": null,
      "metadata": {
        "id": "6xG9al520rKU"
      },
      "outputs": [],
      "source": [
        "print(df)"
      ]
    },
    {
      "cell_type": "code",
      "execution_count": null,
      "metadata": {
        "id": "RJgulGoe0rKU"
      },
      "outputs": [],
      "source": [
        "list_of_columns=['RA','Dec','Parallax']\n",
        "df[list_of_columns]\n",
        "#To look at columns"
      ]
    },
    {
      "cell_type": "code",
      "execution_count": null,
      "metadata": {
        "id": "Uko7YpyS0rKU"
      },
      "outputs": [],
      "source": [
        "df.loc[[6,7,14]]\n",
        "#To look at rows, use the loc"
      ]
    },
    {
      "cell_type": "code",
      "execution_count": null,
      "metadata": {
        "id": "tHv15eAg0rKV"
      },
      "outputs": [],
      "source": [
        "df.loc[[100,101,102],['RA','Dec']]"
      ]
    },
    {
      "cell_type": "code",
      "execution_count": null,
      "metadata": {
        "id": "XUtFINOT0rKV"
      },
      "outputs": [],
      "source": [
        "df['RA+Dec']=df['RA']+df['Dec']"
      ]
    },
    {
      "cell_type": "code",
      "execution_count": null,
      "metadata": {
        "id": "OWhnmVW30rKW"
      },
      "outputs": [],
      "source": [
        "df['2RA']=df['RA']*2\n",
        "df['RA+2']=df['RA']+2\n",
        "#Basic Intuitive algebra is applicable to dataframes (or more specifically, series)"
      ]
    },
    {
      "cell_type": "code",
      "execution_count": null,
      "metadata": {
        "id": "m9eDbTFN0rKW"
      },
      "outputs": [],
      "source": [
        "def square_plus_one(number):\n",
        "    return number*number+1"
      ]
    },
    {
      "cell_type": "code",
      "execution_count": null,
      "metadata": {
        "id": "viZF8tvM0rKX"
      },
      "outputs": [],
      "source": [
        "square_plus_one(2)"
      ]
    },
    {
      "cell_type": "code",
      "execution_count": null,
      "metadata": {
        "id": "kJ_akL6K0rKX"
      },
      "outputs": [],
      "source": [
        "df['RA_Square_plus_one']=df['RA'].apply(square_plus_one)"
      ]
    },
    {
      "cell_type": "code",
      "execution_count": null,
      "metadata": {
        "id": "esJ700Ct0rKY"
      },
      "outputs": [],
      "source": [
        "df[\"RA_Square_plus_one\"]"
      ]
    },
    {
      "cell_type": "code",
      "execution_count": null,
      "metadata": {
        "id": "nI_3PMBk0rKY"
      },
      "outputs": [],
      "source": [
        "import numpy as np\n",
        "def get_x_coordinate(series):\n",
        "    a=series.RA\n",
        "    d=series.Dec\n",
        "    return np.cos(a)*np.cos(d)\n",
        "\n",
        "df.apply(get_x_coordinate,axis=1)\n",
        "#x = cos(a) cos(d)\n",
        "#a is for RA and d is DEC\n",
        "#y = sin(a) cos(d)\n",
        "#z = sin(d)"
      ]
    },
    {
      "cell_type": "code",
      "execution_count": null,
      "metadata": {
        "id": "3yNHDYeI0rKZ"
      },
      "outputs": [],
      "source": [
        "def get_x_coordinate(series):\n",
        "    print('The Series is:')\n",
        "    print(type(series))\n",
        "    print(series)\n",
        "    a=series.RA\n",
        "    print('The Extracted RA is:')\n",
        "    print(a)\n",
        "    d=series.Dec\n",
        "    print('The Extracted Dec is')\n",
        "    print(d)\n",
        "    print('----------------')\n",
        "    return np.cos(a)*np.cos(d)\n",
        "\n",
        "df.head().apply(get_x_coordinate,axis=1)"
      ]
    },
    {
      "cell_type": "code",
      "execution_count": null,
      "metadata": {
        "id": "1Pzx4hwD0rKZ"
      },
      "outputs": [],
      "source": [
        "df.head()"
      ]
    },
    {
      "cell_type": "code",
      "execution_count": null,
      "metadata": {
        "id": "StGd3W5n0rKa"
      },
      "outputs": [],
      "source": [
        "df['PMRA'].plot(kind='hist')"
      ]
    },
    {
      "cell_type": "code",
      "execution_count": null,
      "metadata": {
        "id": "FLdHG6Yb0rKa"
      },
      "outputs": [],
      "source": [
        "df[['RA',\"Dec\"]].plot(x='RA',y='Dec',kind='scatter')"
      ]
    },
    {
      "cell_type": "code",
      "execution_count": null,
      "metadata": {
        "id": "L5s3RNTn0rKb"
      },
      "outputs": [],
      "source": []
    },
    {
      "cell_type": "markdown",
      "metadata": {
        "id": "3R-p4AqF4_6w"
      },
      "source": [
        "Pandas High-Level Exercises – Titanic Dataset\n",
        "These exercises require advanced manipulation using the Titanic dataset.\n",
        "\n",
        "\n",
        "import pandas as pd\n",
        "df = pd.read_csv('titanic.csv')\n",
        "1. Title Extraction and Analysis\n",
        "Task: Extract the title (e.g., Mr., Miss, Master) from the Name column and determine the survival rate for each title.\n",
        "\n",
        "Hint: Use string methods and .groupby().\n",
        "\n",
        "2. Cabin Grouping\n",
        "Task:\n",
        "Group passengers based on the first letter of their Cabin (e.g., A, B, C...) and compute:\n",
        "\n",
        "Total passengers\n",
        "\n",
        "Survival rate per cabin group\n",
        "\n",
        "Note: Handle missing cabins by labeling them as \"Unknown\".\n",
        "\n",
        "3. Family Size Impact\n",
        "Task:\n",
        "Create a new column FamilySize = SibSp + Parch + 1 and categorize family size as:\n",
        "\n",
        "'Single' (1)\n",
        "\n",
        "'Small' (2–4)\n",
        "\n",
        "'Large' (5+)\n",
        "\n",
        "Then compute survival rates for each category.\n",
        "\n",
        "4. Age Binning and Survival Analysis\n",
        "Task:\n",
        "Create age bins: [0–10], [11–20], ..., [71+] and use .cut() to assign age groups. Plot the survival rate by age group.\n",
        "\n",
        "5. Cross Tab: Class vs. Sex vs. Survival\n",
        "Task:\n",
        "Create a pivot table showing survival counts and rates grouped by both Pclass and Sex.\n",
        "\n",
        "6. Impute Missing Age Using Median per Title\n",
        "Task:\n",
        "Use the Title extracted in Exercise 1 to impute missing Age values with the median age of each title group.\n",
        "\n",
        "7. Correlation Heatmap of Encoded Features\n",
        "Task:\n",
        "Encode Sex, Embarked, and Title using .map() or pd.get_dummies(), and compute a correlation matrix to see which features most strongly correlate with Survived.\n",
        "\n",
        "8. Identify Duplicate Ticket Holders\n",
        "Task:\n",
        "Group passengers by Ticket number and identify tickets shared by multiple passengers. For these, compute the survival rate of all passengers sharing the same ticket.\n",
        "\n",
        "9. Analyze Fare per Person\n",
        "Task:\n",
        "Calculate a new column FarePerPerson = Fare / FamilySize. Analyze the correlation between FarePerPerson and Survived.\n",
        "\n",
        "10. Feature Interaction: Class and Fare\n",
        "Task:\n",
        "Create a new categorical feature that combines Pclass and fare quantiles (e.g., '1_HighFare', '2_LowFare', etc.). Analyze survival across these new categories.\n",
        "\n"
      ]
    },
    {
      "cell_type": "code",
      "execution_count": null,
      "metadata": {
        "id": "J9WMedaV0rKb"
      },
      "outputs": [],
      "source": [
        "#import library and dataset\n",
        "import pandas as pd\n",
        "df = pd.read_csv('titanic.csv')"
      ]
    },
    {
      "cell_type": "code",
      "execution_count": null,
      "metadata": {
        "id": "NGJf161f0rKb"
      },
      "outputs": [],
      "source": [
        "#eda\n",
        "df.head()"
      ]
    },
    {
      "cell_type": "code",
      "execution_count": null,
      "metadata": {
        "id": "DUPKHuTl1tEt"
      },
      "outputs": [],
      "source": [
        "#finding a title\n",
        "df['Title'] = df['Name'].str.extract(' ([A-Za-z]+)\\.', expand=False)"
      ]
    },
    {
      "cell_type": "code",
      "execution_count": null,
      "metadata": {
        "id": "meMye9Nn1tEt"
      },
      "outputs": [],
      "source": [
        "#title survival rate\n",
        "title_survival = df.groupby('Title')['Survived'].mean().sort_values(ascending=False)\n",
        "print(\"Survival Rate by Title:\")\n",
        "print(title_survival)"
      ]
    },
    {
      "cell_type": "code",
      "execution_count": null,
      "metadata": {
        "id": "lCNac1f01tEt"
      },
      "outputs": [],
      "source": [
        "#writing unknown to unknown data\n",
        "df['CabinGroup'] = df['Cabin'].fillna('Unknown')"
      ]
    },
    {
      "cell_type": "code",
      "execution_count": null,
      "metadata": {
        "id": "FF7LpY6d1tEt"
      },
      "outputs": [],
      "source": [
        "# Number of passengers and survival rate for each group\n",
        "cabin_stats = df.groupby('CabinGroup').agg(TotalPassengers=('PassengerId', 'count'),SurvivalRate=('Survived', 'mean'))\n",
        "print(\"Cabin Group Stats:\")\n",
        "print(cabin_stats)"
      ]
    },
    {
      "cell_type": "code",
      "execution_count": null,
      "metadata": {
        "id": "d2JTjwoT1tEu"
      },
      "outputs": [],
      "source": [
        "#family size and family category. find family category survived rate\n",
        "df['FamilySize'] = df['SibSp'] + df['Parch'] + 1\n",
        "df['FamilyCategory'] = pd.cut(df['FamilySize'], bins=[0, 1, 4, 100],labels=['Single', 'Small', 'Large'])\n",
        "family_survival = df.groupby('FamilyCategory')['Survived'].mean()\n",
        "print(\"Survival Rate by Family Category:\")\n",
        "print(family_survival)"
      ]
    },
    {
      "cell_type": "code",
      "execution_count": null,
      "metadata": {
        "id": "iiiVkLN_1tEu"
      },
      "outputs": [],
      "source": [
        "import matplotlib.pyplot as plt"
      ]
    },
    {
      "cell_type": "code",
      "execution_count": null,
      "metadata": {
        "id": "wgXGGLlF1tEu"
      },
      "outputs": [],
      "source": [
        "#age range and survival by age range\n",
        "bins = list(range(0, 71, 10))\n",
        "labels = [f'{i}-{i+9}' for i in bins[:-1]]\n",
        "df['AgeGroup'] = pd.cut(df['Age'], bins=bins, labels=labels, right=False)\n",
        "\n",
        "age_survival = df.groupby('AgeGroup')['Survived'].mean()\n",
        "\n",
        "age_survival.plot(kind='bar', title='Survival Rate by Age Group')\n",
        "plt.ylabel('Survival Rate')\n",
        "plt.xlabel('Age Group')\n",
        "plt.xticks(rotation=45)\n",
        "plt.tight_layout()\n",
        "plt.show()"
      ]
    },
    {
      "cell_type": "code",
      "execution_count": null,
      "metadata": {
        "id": "hCy-9G_J1tEu"
      },
      "outputs": [],
      "source": [
        "#Number and rate of survival\n",
        "pivot = pd.pivot_table(df, values='Survived', index='Pclass', columns='Sex',aggfunc=['count', 'mean'])\n",
        "print(\"Pivot Table: Survival Count and Rate by Class and Sex\")\n",
        "print(pivot)"
      ]
    },
    {
      "cell_type": "code",
      "execution_count": null,
      "metadata": {
        "id": "6PDnR3N_1tEu"
      },
      "outputs": [],
      "source": [
        "# Missing ages were filled with median according to title\n",
        "df['Age'] = df.groupby('Title')['Age'].transform(lambda x: x.fillna(x.median()))\n",
        "\n",
        "# Is there a missing age or not?\n",
        "print(\"Missing Age count after fill:\", df['Age'].isnull().sum())"
      ]
    },
    {
      "cell_type": "code",
      "execution_count": null,
      "metadata": {
        "id": "eIxYxuLa1tEu"
      },
      "outputs": [],
      "source": [
        "import seaborn as sns\n",
        "\n",
        "# Convert categorical variables to numeric\n",
        "df_encoded = df.copy()\n",
        "df_encoded['Sex'] = df_encoded['Sex'].map({'male': 0, 'female': 1})\n",
        "df_encoded['Embarked'] = df_encoded['Embarked'].map({'S': 0, 'C': 1, 'Q': 2})\n",
        "df_encoded = pd.get_dummies(df_encoded, columns=['Title'], drop_first=True)\n",
        "\n",
        "# Correlation heat map\n",
        "plt.figure(figsize=(12,8))\n",
        "sns.heatmap(df_encoded.corr(numeric_only=True), cmap='coolwarm', annot=True, fmt='.2f')\n",
        "plt.title('Feature Correlation Heatmap')\n",
        "plt.tight_layout()\n",
        "plt.show()\n"
      ]
    },
    {
      "cell_type": "code",
      "execution_count": null,
      "metadata": {
        "id": "UDTLdqh_1tEu"
      },
      "outputs": [],
      "source": [
        "# Find passengers using the same ticket\n",
        "ticket_counts = df['Ticket'].value_counts()\n",
        "duplicate_tickets = ticket_counts[ticket_counts > 1].index\n",
        "\n",
        "# Survival rates in this group of tickets\n",
        "df_dup = df[df['Ticket'].isin(duplicate_tickets)]\n",
        "ticket_survival = df_dup.groupby('Ticket')['Survived'].mean()\n",
        "print(\"Survival Rate for Passengers with Duplicate Tickets\")\n",
        "print(ticket_survival.head())\n"
      ]
    },
    {
      "cell_type": "code",
      "execution_count": null,
      "metadata": {
        "id": "PUr7UKGL1tEu"
      },
      "outputs": [],
      "source": [
        "# Per person fee calculation\n",
        "df['FarePerPerson'] = df['Fare'] / df['FamilySize']\n",
        "\n",
        "# Correlation analysis\n",
        "fare_corr = df[['FarePerPerson', 'Survived']].corr()\n",
        "print(\"Correlation between FarePerPerson and Survived:\")\n",
        "print(fare_corr)\n"
      ]
    },
    {
      "cell_type": "code",
      "execution_count": null,
      "metadata": {
        "id": "KEE3HYuQ1tEu"
      },
      "outputs": [],
      "source": [
        "# Grouping by wage levels\n",
        "df['FareGroup'] = pd.qcut(df['Fare'], 3, labels=['Low', 'Mid', 'High'])\n",
        "\n",
        "# Creating a new category by combining Pclass and FareGroup\n",
        "df['ClassFare'] = df['Pclass'].astype(str) + '_' + df['FareGroup'].astype(str)\n",
        "\n",
        "# Survival rates by these categories\n",
        "class_fare_survival = df.groupby('ClassFare')['Survived'].mean()\n",
        "print(\"Survival Rate by Pclass-Fare Group:\")\n",
        "print(class_fare_survival)\n"
      ]
    },
    {
      "cell_type": "code",
      "execution_count": null,
      "metadata": {
        "id": "wujRooLE1tEu"
      },
      "outputs": [],
      "source": []
    }
  ],
  "metadata": {
    "colab": {
      "provenance": []
    },
    "kernelspec": {
      "display_name": "Python 3 (ipykernel)",
      "language": "python",
      "name": "python3"
    },
    "language_info": {
      "codemirror_mode": {
        "name": "ipython",
        "version": 3
      },
      "file_extension": ".py",
      "mimetype": "text/x-python",
      "name": "python",
      "nbconvert_exporter": "python",
      "pygments_lexer": "ipython3",
      "version": "3.12.7"
    }
  },
  "nbformat": 4,
  "nbformat_minor": 0
}